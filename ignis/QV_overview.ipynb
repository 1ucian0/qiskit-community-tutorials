{
 "cells": [
  {
   "cell_type": "markdown",
   "metadata": {},
   "source": [
    "<img src=\"../../images/qiskit-heading.gif\" alt=\"Note: In order for images to show up in this jupyter notebook you need to select File => Trusted Notebook\" width=\"500 px\\\" align=\"left\">"
   ]
  },
  {
   "cell_type": "markdown",
   "metadata": {},
   "source": [
    "# Quantum Volume Overview\n",
    "\n",
    "### Contributors\n",
    "\n",
    "Shelly Garion$^{1}$ and David McKay$^{2}$\n",
    "\n",
    "1. IBM Research Haifa, Haifa University Campus, Mount Carmel Haifa, Israel\n",
    "2. IBM T.J. Watson Research Center, Yorktown Heights, NY, USA"
   ]
  },
  {
   "cell_type": "markdown",
   "metadata": {},
   "source": [
    "## Introduction\n",
    "\n",
    "TBD\n",
    "\n",
    "\n",
    "### References\n",
    "\n",
    "[1] Andrew W. Cross, Lev S. Bishop, Sarah Sheldon, Paul D. Nation, and Jay M. Gambetta, *Validating quantum computers using randomized model circuits*, https://arxiv.org/pdf/1811.12926\n",
    "\n",
    "\n",
    "\n",
    "## The Quantum Volume Protocol\n",
    "\n",
    "A QV protocol (see [1]) consists of the following steps:\n",
    "\n",
    "(We should first import the relevant qiskit classes for the demonstration)."
   ]
  },
  {
   "cell_type": "code",
   "execution_count": 1,
   "metadata": {},
   "outputs": [],
   "source": [
    "#Import general libraries (needed for functions)\n",
    "import numpy as np\n",
    "import matplotlib.pyplot as plt\n",
    "from IPython import display\n",
    "\n",
    "#Import Qiskit classes classes\n",
    "import qiskit\n",
    "from qiskit.providers.aer.noise import NoiseModel\n",
    "from qiskit.providers.aer.noise.errors.standard_errors import depolarizing_error, thermal_relaxation_error\n",
    "\n",
    "#Import the qv function.\n",
    "import qiskit.ignis.verification.quantum_volume as qv"
   ]
  },
  {
   "cell_type": "markdown",
   "metadata": {},
   "source": [
    "### Step 1: Generate QV sequences\n",
    "\n",
    "It is well-known that quantum algorithms can be expressed as polynomial-sized quantum circuits built from two-qubit unitary gates. Therefore, a model circuit consists of $d$ layers of random permutations of the qubit labels, followed by random two-qubit gates (from $SU(4)$). When the circuit width $m$ is odd, one of the qubits is idle in each layer.\n",
    "\n",
    "More precisely, a **QV circuit** with **depth $d$** and **width $m$**, is a sequence $U = U^{(d)}...U^{(2)}U^{(1)}$ of $d$ layers:\n",
    "$$ U^{(t)} = U^{(t)}_{\\pi_t(m'-1),\\pi_t(m)} \\otimes ... \\otimes U^{(t)}_{\\pi_t(1),\\pi_t(2)} $$\n",
    "each labeled by times $t = 1 ... d$ and acting on $m' = 2 \\lfloor n/2 \\rfloor$ qubits. \n",
    "Each layer is specified by choosing a uniformly random permutation $\\pi_t \\in S_m$ of the $m$ qubit indices\n",
    "and sampling each $U^{(t)}_{a,b}$, acting on qubits $a$ and $b$, from the Haar measure on $SU(4)$.\n",
    "\n",
    "In the following example we have 6 qubits Q0,Q1,Q3,Q5,Q7,Q10. We are going to look at subsets up to the full set\n",
    "(each volume circuit will be depth equal to the number of qubits in the subset)"
   ]
  },
  {
   "cell_type": "code",
   "execution_count": 2,
   "metadata": {},
   "outputs": [],
   "source": [
    "# qubit_lists: list of list of qubit subsets to generate QV circuits\n",
    "qubit_lists = [[0,1,3],[0,1,3,5],[0,1,3,5,7],[0,1,3,5,7,10]]\n",
    "# ntrials: Number of random circuits to create for each subset\n",
    "ntrials = 50"
   ]
  },
  {
   "cell_type": "markdown",
   "metadata": {},
   "source": [
    "We generate the quantum volume sequences. We start with a small example (so it doesn't take too long to run)."
   ]
  },
  {
   "cell_type": "code",
   "execution_count": 3,
   "metadata": {},
   "outputs": [],
   "source": [
    "qv_circs, qv_circs_nomeas = qv.qv_circuits(qubit_lists, ntrials)"
   ]
  },
  {
   "cell_type": "markdown",
   "metadata": {},
   "source": [
    "As an example, we print the circuit corresponding to the first QV sequence. Note that the ideal circuits are run on the first n qubits (where n is the number of qubits in the subset)."
   ]
  },
  {
   "cell_type": "code",
   "execution_count": 4,
   "metadata": {},
   "outputs": [],
   "source": [
    "#pass the first trial of the nomeas through the transpiler to illustrate the circuit\n",
    "qv_circs_nomeas[0] = qiskit.compiler.transpile(qv_circs_nomeas[0], basis_gates=['u1','u2','u3','cx'])"
   ]
  },
  {
   "cell_type": "code",
   "execution_count": 5,
   "metadata": {},
   "outputs": [
    {
     "name": "stdout",
     "output_type": "stream",
     "text": [
      "          ┌───────────────────────────┐        ┌────────────────────────────┐ »\n",
      "qr_0: |0>─┤ U3(2.6413,-3.132,0.48922) ├───■────┤ U3(0.45162,-4.7124,1.5708) ├─»\n",
      "          └┬──────────────────────────┤   │    └────────────────────────────┘ »\n",
      "qr_1: |0>──┤ U3(2.0561,2.1198,3.9628) ├───┼───────────────────────────────────»\n",
      "         ┌─┴──────────────────────────┴┐┌─┴─┐┌───────────────────────────────┐»\n",
      "qr_2: |0>┤ U3(1.2668,-0.43279,-5.6695) ├┤ X ├┤ U3(1.5708,2.2204e-16,-3.5179) ├»\n",
      "         └─────────────────────────────┘└───┘└───────────────────────────────┘»\n",
      " cr_0: 0 ═════════════════════════════════════════════════════════════════════»\n",
      "                                                                              »\n",
      " cr_1: 0 ═════════════════════════════════════════════════════════════════════»\n",
      "                                                                              »\n",
      " cr_2: 0 ═════════════════════════════════════════════════════════════════════»\n",
      "                                                                              »\n",
      "«           ┌─────────────────────────────────┐     »\n",
      "«qr_0: ──■──┤ U3(0.24289,-6.6613e-16,-1.5708) ├──■──»\n",
      "«        │  └─────────────────────────────────┘  │  »\n",
      "«qr_1: ──┼───────────────────────────────────────┼──»\n",
      "«      ┌─┴─┐   ┌───────────────────────────┐   ┌─┴─┐»\n",
      "«qr_2: ┤ X ├───┤ U3(1.5708,3.1416,-1.5708) ├───┤ X ├»\n",
      "«      └───┘   └───────────────────────────┘   └───┘»\n",
      "«cr_0: ═════════════════════════════════════════════»\n",
      "«                                                   »\n",
      "«cr_1: ═════════════════════════════════════════════»\n",
      "«                                                   »\n",
      "«cr_2: ═════════════════════════════════════════════»\n",
      "«                                                   »\n",
      "«      ┌────────────────────────────┐┌────────────────────────────┐     »\n",
      "«qr_0: ┤ U3(0.20453,-3.6316,1.9113) ├┤ U3(1.0471,-1.8998,-3.6331) ├──■──»\n",
      "«      └────────────────────────────┘└────────────────────────────┘┌─┴─┐»\n",
      "«qr_1: ────────────────────────────────────────────────────────────┤ X ├»\n",
      "«       ┌──────────────────────────┐ ┌───────────────────────────┐ └───┘»\n",
      "«qr_2: ─┤ U3(1.5554,1.8818,3.2402) ├─┤ U3(2.1769,-4.3514,1.2485) ├──────»\n",
      "«       └──────────────────────────┘ └───────────────────────────┘      »\n",
      "«cr_0: ═════════════════════════════════════════════════════════════════»\n",
      "«                                                                       »\n",
      "«cr_1: ═════════════════════════════════════════════════════════════════»\n",
      "«                                                                       »\n",
      "«cr_2: ═════════════════════════════════════════════════════════════════»\n",
      "«                                                                       »\n",
      "«        ┌────────────────────────────┐      »\n",
      "«qr_0: ──┤ U3(0.90886,-4.7124,1.5708) ├───■──»\n",
      "«      ┌─┴────────────────────────────┴┐┌─┴─┐»\n",
      "«qr_1: ┤ U3(1.5708,2.2204e-16,-3.4733) ├┤ X ├»\n",
      "«      └───────────────────────────────┘└───┘»\n",
      "«qr_2: ──────────────────────────────────────»\n",
      "«                                            »\n",
      "«cr_0: ══════════════════════════════════════»\n",
      "«                                            »\n",
      "«cr_1: ══════════════════════════════════════»\n",
      "«                                            »\n",
      "«cr_2: ══════════════════════════════════════»\n",
      "«                                            »\n",
      "«      ┌─────────────────────────────────┐     ┌─────────────────────────────┐»\n",
      "«qr_0: ┤ U3(0.23642,-6.6613e-16,-1.5708) ├──■──┤ U3(0.83796,2.8038,-0.10697) ├»\n",
      "«      └──┬───────────────────────────┬──┘┌─┴─┐└┬────────────────────────────┤»\n",
      "«qr_1: ───┤ U3(1.5708,3.1416,-1.5708) ├───┤ X ├─┤ U3(2.309,-4.4608,-0.54171) ├»\n",
      "«         └───────────────────────────┘   └───┘ └────────────────────────────┘»\n",
      "«qr_2: ───────────────────────────────────────────────────────────────────────»\n",
      "«                                                                             »\n",
      "«cr_0: ═══════════════════════════════════════════════════════════════════════»\n",
      "«                                                                             »\n",
      "«cr_1: ═══════════════════════════════════════════════════════════════════════»\n",
      "«                                                                             »\n",
      "«cr_2: ═══════════════════════════════════════════════════════════════════════»\n",
      "«                                                                             »\n",
      "«      ┌───────────────────────────┐      ┌────────────────────────────┐      »\n",
      "«qr_0: ┤ U3(2.0109,4.6787,0.24454) ├──■───┤ U3(0.76068,-4.7124,1.5708) ├───■──»\n",
      "«      └───────────────────────────┘  │   └────────────────────────────┘   │  »\n",
      "«qr_1: ───────────────────────────────┼────────────────────────────────────┼──»\n",
      "«                                   ┌─┴─┐┌──────────────────────────────┐┌─┴─┐»\n",
      "«qr_2: ─────────────────────────────┤ X ├┤ U3(1.5708,4.4409e-16,-3.354) ├┤ X ├»\n",
      "«                                   └───┘└──────────────────────────────┘└───┘»\n",
      "«cr_0: ═══════════════════════════════════════════════════════════════════════»\n",
      "«                                                                             »\n",
      "«cr_1: ═══════════════════════════════════════════════════════════════════════»\n",
      "«                                                                             »\n",
      "«cr_2: ═══════════════════════════════════════════════════════════════════════»\n",
      "«                                                                             »\n",
      "«      ┌──────────────────────────────────┐     ┌────────────────────────────┐\n",
      "«qr_0: ┤ U3(0.080361,-1.1102e-15,-1.5708) ├──■──┤ U3(0.76039,0.70579,3.7067) ├\n",
      "«      └──────────────────────────────────┘  │  └────────────────────────────┘\n",
      "«qr_1: ──────────────────────────────────────┼────────────────────────────────\n",
      "«         ┌───────────────────────────┐    ┌─┴─┐┌───────────────────────────┐ \n",
      "«qr_2: ───┤ U3(1.5708,3.1416,-1.5708) ├────┤ X ├┤ U3(0.8591,-0.75996,5.444) ├─\n",
      "«         └───────────────────────────┘    └───┘└───────────────────────────┘ \n",
      "«cr_0: ═══════════════════════════════════════════════════════════════════════\n",
      "«                                                                             \n",
      "«cr_1: ═══════════════════════════════════════════════════════════════════════\n",
      "«                                                                             \n",
      "«cr_2: ═══════════════════════════════════════════════════════════════════════\n",
      "«                                                                             \n"
     ]
    }
   ],
   "source": [
    "print(qv_circs_nomeas[0][0])"
   ]
  },
  {
   "cell_type": "markdown",
   "metadata": {},
   "source": [
    "### Step 2: Simulate the ideal QV circuits\n",
    "\n",
    "The quantum volume method requires that we know the ideal output for each circuit, so use the statevector simulator in Aer to get the ideal result."
   ]
  },
  {
   "cell_type": "code",
   "execution_count": 6,
   "metadata": {},
   "outputs": [
    {
     "name": "stdout",
     "output_type": "stream",
     "text": [
      "Simulating trial 0\n",
      "Simulating trial 1\n",
      "Simulating trial 2\n",
      "Simulating trial 3\n",
      "Simulating trial 4\n",
      "Simulating trial 5\n",
      "Simulating trial 6\n",
      "Simulating trial 7\n",
      "Simulating trial 8\n",
      "Simulating trial 9\n",
      "Simulating trial 10\n",
      "Simulating trial 11\n",
      "Simulating trial 12\n",
      "Simulating trial 13\n",
      "Simulating trial 14\n",
      "Simulating trial 15\n",
      "Simulating trial 16\n",
      "Simulating trial 17\n",
      "Simulating trial 18\n",
      "Simulating trial 19\n",
      "Simulating trial 20\n",
      "Simulating trial 21\n",
      "Simulating trial 22\n",
      "Simulating trial 23\n",
      "Simulating trial 24\n",
      "Simulating trial 25\n",
      "Simulating trial 26\n",
      "Simulating trial 27\n",
      "Simulating trial 28\n",
      "Simulating trial 29\n",
      "Simulating trial 30\n",
      "Simulating trial 31\n",
      "Simulating trial 32\n",
      "Simulating trial 33\n",
      "Simulating trial 34\n",
      "Simulating trial 35\n",
      "Simulating trial 36\n",
      "Simulating trial 37\n",
      "Simulating trial 38\n",
      "Simulating trial 39\n",
      "Simulating trial 40\n",
      "Simulating trial 41\n",
      "Simulating trial 42\n",
      "Simulating trial 43\n",
      "Simulating trial 44\n",
      "Simulating trial 45\n",
      "Simulating trial 46\n",
      "Simulating trial 47\n",
      "Simulating trial 48\n",
      "Simulating trial 49\n"
     ]
    }
   ],
   "source": [
    "#The Unitary is an identity (with a global phase)\n",
    "backend = qiskit.Aer.get_backend('statevector_simulator')\n",
    "ideal_results = []\n",
    "for trial in range(ntrials):\n",
    "    print('Simulating trial %d'%trial)\n",
    "    ideal_results.append(qiskit.execute(qv_circs_nomeas[trial], backend=backend).result())\n"
   ]
  },
  {
   "cell_type": "markdown",
   "metadata": {},
   "source": [
    "Next, we load the ideal results into a quantum volume fitter"
   ]
  },
  {
   "cell_type": "code",
   "execution_count": 7,
   "metadata": {},
   "outputs": [],
   "source": [
    "qv_fitter = qv.QVFitter(qubit_lists=qubit_lists)\n",
    "qv_fitter.add_statevectors(ideal_results)"
   ]
  },
  {
   "cell_type": "markdown",
   "metadata": {},
   "source": [
    "### Step 3: Calculate the heavy outputs\n",
    "\n",
    "To define when a model circuit $U$ has been successfully implemented in practice, we use the *heavy output* generation problem. The ideal output distribution is $p_U(x) = |\\langle x|U|0 \\rangle|^2$, \n",
    "where $x \\in \\{0,1\\}^m$ is an observable bit-string. \n",
    "\n",
    "Consider the set of output probabilities given by the range of $p_U(x)$ sorted in ascending order \n",
    "$p_0 \\leq p_1 \\leq \\dots \\leq p_{2^m-1}$. The median of the set of probabilities is \n",
    "$p_{med} = (p_{2^{m-1}} + p_{2^{m-1}-1})/2$, and the *heavy outputs* are\n",
    "$$ H_U = \\{ x \\in \\{0,1\\}^m \\text{ such that } p_U(x)>p_{med} \\}.$$\n",
    "The heavy output generation problem is to produce a set of output strings such that more than two-thirds are heavy.\n",
    "\n",
    "As an illustration, we print the heavy outputs from various depths and their probabilities (for trial 0):"
   ]
  },
  {
   "cell_type": "code",
   "execution_count": 42,
   "metadata": {},
   "outputs": [
    {
     "name": "stdout",
     "output_type": "stream",
     "text": [
      "qv_depth_3_trial_0: ['000', '001', '011', '100']\n",
      "qv_depth_4_trial_0: ['0100', '0101', '0110', '0111', '1001', '1010', '1011', '1110']\n",
      "qv_depth_5_trial_0: ['00001', '00010', '00011', '00111', '01011', '10000', '10001', '10010', '10011', '10100', '10101', '10110', '10111', '11000', '11010', '11111']\n",
      "qv_depth_6_trial_0: ['000010', '000011', '000101', '001000', '001101', '001110', '010010', '010101', '010111', '011000', '011001', '011010', '011100', '100001', '100100', '100110', '101011', '101101', '101110', '101111', '110000', '110001', '110010', '110011', '110100', '110101', '111000', '111001', '111010', '111100', '111101', '111110']\n"
     ]
    }
   ],
   "source": [
    "for qubit_list in qubit_lists:\n",
    "    l = len(qubit_list)\n",
    "    print ('qv_depth_'+str(l)+'_trial_0:', qv_fitter._heavy_outputs['qv_depth_'+str(l)+'_trial_0'])"
   ]
  },
  {
   "cell_type": "code",
   "execution_count": 43,
   "metadata": {},
   "outputs": [
    {
     "name": "stdout",
     "output_type": "stream",
     "text": [
      "qv_depth_3_trial_0: 0.8866032238331987\n",
      "qv_depth_4_trial_0: 0.8231407843009341\n",
      "qv_depth_5_trial_0: 0.9381866113989175\n",
      "qv_depth_6_trial_0: 0.8524796573517126\n"
     ]
    }
   ],
   "source": [
    "for qubit_list in qubit_lists:\n",
    "    l = len(qubit_list)\n",
    "    print ('qv_depth_'+str(l)+'_trial_0:', qv_fitter._heavy_output_prob_ideal['qv_depth_'+str(l)+'_trial_0'])"
   ]
  },
  {
   "cell_type": "code",
   "execution_count": null,
   "metadata": {},
   "outputs": [],
   "source": []
  },
  {
   "cell_type": "code",
   "execution_count": null,
   "metadata": {},
   "outputs": [],
   "source": []
  }
 ],
 "metadata": {
  "kernelspec": {
   "display_name": "Python [conda env:YaelEnv]",
   "language": "python",
   "name": "conda-env-YaelEnv-py"
  },
  "language_info": {
   "codemirror_mode": {
    "name": "ipython",
    "version": 3
   },
   "file_extension": ".py",
   "mimetype": "text/x-python",
   "name": "python",
   "nbconvert_exporter": "python",
   "pygments_lexer": "ipython3",
   "version": "3.6.5"
  }
 },
 "nbformat": 4,
 "nbformat_minor": 2
}
