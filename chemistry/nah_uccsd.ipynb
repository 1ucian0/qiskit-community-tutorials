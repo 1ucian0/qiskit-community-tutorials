{
 "cells": [
  {
   "cell_type": "markdown",
   "metadata": {},
   "source": [
    "## _*NaH dissociation curve using VQE with UCCSD*_\n",
    "\n",
    "This notebook demonstrates using the Qiskit Chemistry to plot graphs of the ground state energy of the Sodium Hydride (NaH) molecule over a range of inter-atomic distances using VQE and UCCSD. It is compared to the same energies as computed by the ExactEigensolver.\n",
    "\n",
    "_*Note: this molecule is larger than the similar LiH and this notebook can take a while to run.*_\n",
    "\n",
    "This notebook has been written to use the PYSCF chemistry driver."
   ]
  },
  {
   "cell_type": "code",
   "execution_count": null,
   "metadata": {
    "scrolled": false
   },
   "outputs": [
    {
     "name": "stdout",
     "output_type": "stream",
     "text": [
      "Couldn't find cython int routine\n",
      "Couldn't find cython int routine\n",
      "Processing step 11"
     ]
    }
   ],
   "source": [
    "import numpy as np\n",
    "import pylab\n",
    "import copy\n",
    "from qiskit import BasicAer\n",
    "from qiskit.aqua import QuantumInstance\n",
    "from qiskit.aqua.algorithms import ExactEigensolver, VQE\n",
    "from qiskit.aqua.components.optimizers import SLSQP\n",
    "from qiskit.chemistry.components.initial_states import HartreeFock\n",
    "from qiskit.chemistry.components.variational_forms import UCCSD\n",
    "from qiskit.chemistry.drivers import PySCFDriver\n",
    "from qiskit.chemistry.core import Hamiltonian, QubitMappingType\n",
    "\n",
    "molecule = 'H .0 .0 -{0}; Na .0 .0 {0}'\n",
    "algorithms = ['VQE', 'ExactEigensolver']\n",
    "\n",
    "pts  = [x * 0.1  for x in range(10, 25)]\n",
    "pts += [x * 0.25 for x in range(10, 18)]\n",
    "pts += [4.5]\n",
    "energies = np.empty([len(algorithms), len(pts)])\n",
    "hf_energies = np.empty(len(pts))\n",
    "distances = np.empty(len(pts))\n",
    "dipoles     = np.empty([len(algorithms), len(pts)])\n",
    "eval_counts = np.empty(len(pts))\n",
    "\n",
    "print('Processing step __', end='')\n",
    "for i, d in enumerate(pts):\n",
    "    print('\\b\\b{:2d}'.format(i), end='', flush=True)\n",
    "    for j in range(len(algorithms)):\n",
    "        driver = PySCFDriver(atom=molecule.format(d/2), basis='sto3g')\n",
    "        qmolecule = driver.run()\n",
    "        operator =  Hamiltonian(qubit_mapping=QubitMappingType.PARITY,\n",
    "                                two_qubit_reduction=True,\n",
    "                                freeze_core=True, orbital_reduction=[])\n",
    "        qubit_op, aux_ops = operator.run(qmolecule)\n",
    "        if algorithms[j] == 'ExactEigensolver':\n",
    "            result = ExactEigensolver(qubit_op).run()\n",
    "        else:\n",
    "            optimizer = SLSQP(maxiter=2500)\n",
    "            initial_state = HartreeFock(qubit_op.num_qubits,\n",
    "                                        operator.molecule_info['num_orbitals'],\n",
    "                                        operator.molecule_info['num_particles'],\n",
    "                                        qubit_mapping=operator._qubit_mapping,\n",
    "                                        two_qubit_reduction=operator._two_qubit_reduction)\n",
    "            var_form = UCCSD(qubit_op.num_qubits, depth=1,\n",
    "                            num_orbitals=operator.molecule_info['num_orbitals'],\n",
    "                            num_particles=operator.molecule_info['num_particles'],\n",
    "                            initial_state=initial_state,\n",
    "                            qubit_mapping=operator._qubit_mapping,\n",
    "                            two_qubit_reduction=operator._two_qubit_reduction)\n",
    "            algo = VQE(qubit_op, var_form, optimizer)\n",
    "            result = algo.run(QuantumInstance(BasicAer.get_backend('statevector_simulator')))\n",
    "                              \n",
    "        lines, result = operator.process_algorithm_result(result)\n",
    "        result['printable'] = lines\n",
    "        energies[j][i] = result['energy']\n",
    "        hf_energies[i] = result['hf_energy']\n",
    "        if 'total_dipole_moment' in result:\n",
    "            print(algorithms[j], result)\n",
    "        dipoles[j][i]  = result.get('total_dipole_moment', 0) / 0.393430307\n",
    "        if algorithms[j] == 'VQE':\n",
    "            eval_counts[i] = result['algorithm_retvals']['eval_count']\n",
    "    distances[i] = d\n",
    "print(' --- complete')\n",
    "\n",
    "print('Distances: ', distances)\n",
    "print('Energies:', energies)\n",
    "print('Hartree-Fock energies:', hf_energies)\n",
    "print('Dipoles:', dipoles)\n",
    "print('VQE num evaluations:', eval_counts)\n"
   ]
  },
  {
   "cell_type": "code",
   "execution_count": null,
   "metadata": {},
   "outputs": [],
   "source": [
    "pylab.plot(distances, hf_energies, label='Hartree-Fock')\n",
    "for j in range(len(algorithms)):\n",
    "    pylab.plot(distances, energies[j], label=algorithms[j])\n",
    "pylab.xlabel('Interatomic distance')\n",
    "pylab.ylabel('Energy')\n",
    "pylab.title('NaH Ground State Energy')\n",
    "pylab.legend(loc='upper right');"
   ]
  },
  {
   "cell_type": "code",
   "execution_count": null,
   "metadata": {},
   "outputs": [],
   "source": [
    "pylab.plot(distances, np.subtract(hf_energies, energies[1]), label='Hartree-Fock')\n",
    "pylab.plot(distances, np.subtract(energies[0], energies[1]), label='VQE')\n",
    "pylab.xlabel('Interatomic distance')\n",
    "pylab.ylabel('Energy')\n",
    "pylab.title('Energy difference from ExactEigensolver')\n",
    "pylab.legend(loc='upper left');"
   ]
  },
  {
   "cell_type": "code",
   "execution_count": null,
   "metadata": {},
   "outputs": [],
   "source": [
    "for j in reversed(range(len(algorithms))):\n",
    "    pylab.plot(distances, dipoles[j], label=algorithms[j])\n",
    "pylab.xlabel('Interatomic distance')\n",
    "pylab.ylabel('Moment in debye')\n",
    "pylab.title('NaH Dipole Moment')\n",
    "pylab.legend(loc='upper right');"
   ]
  },
  {
   "cell_type": "code",
   "execution_count": null,
   "metadata": {},
   "outputs": [],
   "source": [
    "pylab.plot(distances, eval_counts, '-o', color=[0.8500, 0.3250, 0.0980], label='VQE')\n",
    "pylab.xlabel('Interatomic distance')\n",
    "pylab.ylabel('Evaluations')\n",
    "pylab.title('VQE number of evaluations')\n",
    "pylab.legend(loc='upper left');"
   ]
  },
  {
   "cell_type": "code",
   "execution_count": null,
   "metadata": {},
   "outputs": [],
   "source": []
  }
 ],
 "metadata": {
  "kernelspec": {
   "display_name": "Python 3",
   "language": "python",
   "name": "python3"
  },
  "language_info": {
   "codemirror_mode": {
    "name": "ipython",
    "version": 3
   },
   "file_extension": ".py",
   "mimetype": "text/x-python",
   "name": "python",
   "nbconvert_exporter": "python",
   "pygments_lexer": "ipython3",
   "version": "3.7.4"
  }
 },
 "nbformat": 4,
 "nbformat_minor": 1
}
