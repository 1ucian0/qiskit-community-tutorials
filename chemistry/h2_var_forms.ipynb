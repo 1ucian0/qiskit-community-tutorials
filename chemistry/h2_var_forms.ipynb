{
 "cells": [
  {
   "cell_type": "markdown",
   "metadata": {},
   "source": [
    "## _*H2 energy with various RY and RYRZ variational forms*_\n",
    "\n",
    "This notebook demonstrates using Qiskit Chemistry to plot graphs of the ground state energy of the Hydrogen (H2) molecule using VQE with different variation form configurations. The results are compared to the same energy as computed by the ExactEigensolver\n",
    "\n",
    "This notebook populates a dictionary, that is a progammatic representation of an input file, in order to drive the Qiskit Chemistry stack. Such a dictionary can be manipulated programmatically and this is indeed the case here. \n",
    "\n",
    "This notebook has been written to use the PYSCF chemistry driver."
   ]
  },
  {
   "cell_type": "code",
   "execution_count": 1,
   "metadata": {},
   "outputs": [
    {
     "name": "stdout",
     "output_type": "stream",
     "text": [
      "Couldn't find cython int routine\n",
      "Couldn't find cython int routine\n"
     ]
    },
    {
     "name": "stderr",
     "output_type": "stream",
     "text": [
      "/Users/manoel/anaconda3/envs/Qiskitenv/lib/python3.7/site-packages/pyscf/scf/chkfile.py:31: H5pyDeprecationWarning: The default file mode will change to 'r' (read-only) in h5py 3.0. To suppress this warning, pass the mode you need to h5py.File(), or set the global default h5.get_config().default_file_mode, or set the environment variable H5PY_DEFAULT_READONLY=1. Available modes are: 'r', 'r+', 'w', 'w-'/'x', 'a'. See the docs for details.\n",
      "  with h5py.File(chkfile) as fh5:\n"
     ]
    },
    {
     "name": "stdout",
     "output_type": "stream",
     "text": [
      "Hartree-Fock energy: -1.1173432691225826\n",
      "FCI energy: -1.1372213770723036\n"
     ]
    }
   ],
   "source": [
    "import numpy as np\n",
    "import pylab\n",
    "from qiskit import BasicAer\n",
    "from qiskit.aqua import aqua_globals, QuantumInstance\n",
    "from qiskit.aqua.algorithms import ExactEigensolver, VQE\n",
    "from qiskit.aqua.components.optimizers import COBYLA\n",
    "from qiskit.aqua.components.variational_forms import RYRZ, RY\n",
    "from qiskit.aqua.components.initial_states import Zero\n",
    "from qiskit.chemistry.drivers import PySCFDriver\n",
    "from qiskit.chemistry.core import Hamiltonian, QubitMappingType\n",
    "\n",
    "var_forms = [RYRZ, RY]\n",
    "entanglements = ['full', 'linear']\n",
    "depths = [x for x in range(3, 11)]\n",
    "\n",
    "energies = np.empty([len(var_forms), len(entanglements), len(depths)])\n",
    "hf_energy = None\n",
    "energy = None\n",
    "eval_counts = np.empty([len(var_forms), len(entanglements), len(depths)])\n",
    "\n",
    "aqua_globals.random_seed = 50\n",
    "\n",
    "driver = PySCFDriver('H .0 .0 -0.3625; H .0 .0 0.3625', basis='sto3g')\n",
    "qmolecule = driver.run()\n",
    "operator =  Hamiltonian(qubit_mapping=QubitMappingType.JORDAN_WIGNER, two_qubit_reduction=False)\n",
    "qubit_op, aux_ops = operator.run(qmolecule)\n",
    "result = ExactEigensolver(qubit_op).run()\n",
    "lines, result = operator.process_algorithm_result(result)\n",
    "result['printable'] = lines\n",
    "    \n",
    "hf_energy = result['hf_energy']\n",
    "energy = result['energy']\n",
    "print('Hartree-Fock energy:', hf_energy)\n",
    "print('FCI energy:', energy)"
   ]
  },
  {
   "cell_type": "markdown",
   "metadata": {},
   "source": [
    "With a reference FCI energy computed from ExactEigensolver we now compute the ground state energy with VQE and different variational form setups"
   ]
  },
  {
   "cell_type": "code",
   "execution_count": null,
   "metadata": {
    "scrolled": true
   },
   "outputs": [
    {
     "name": "stdout",
     "output_type": "stream",
     "text": [
      "Processing step __\b\b 0"
     ]
    }
   ],
   "source": [
    "print('Processing step __', end='')\n",
    "for i, d in enumerate(depths):\n",
    "    print('\\b\\b{:2d}'.format(i), end='', flush=True)\n",
    "    for j in range(len(entanglements)):\n",
    "        for k in range(len(var_forms)):\n",
    "            variational_form_cls = var_forms[k] \n",
    "        \n",
    "            driver = PySCFDriver('H .0 .0 -0.3625; H .0 .0 0.3625', basis='sto3g')\n",
    "            qmolecule = driver.run()\n",
    "            operator =  Hamiltonian(qubit_mapping=QubitMappingType.JORDAN_WIGNER, two_qubit_reduction=False)\n",
    "            qubit_op, aux_ops = operator.run(qmolecule)\n",
    "            optimizer = COBYLA(maxiter=10000)\n",
    "            initial_state = Zero(qubit_op.num_qubits)\n",
    "            var_form = variational_form_cls(qubit_op.num_qubits, depth=d, entanglement=entanglements[j])\n",
    "            algo = VQE(qubit_op, var_form, optimizer)\n",
    "            result = algo.run(QuantumInstance(BasicAer.get_backend('statevector_simulator'),\n",
    "                                seed_simulator=aqua_globals.random_seed,\n",
    "                                seed_transpiler=aqua_globals.random_seed))\n",
    "            lines, result = operator.process_algorithm_result(result)\n",
    "            result['printable'] = lines\n",
    "\n",
    "            energies[k][j][i] = result['energy']\n",
    "            eval_counts[k][j][i] = result['algorithm_retvals']['eval_count']\n",
    "print(' --- complete')\n",
    "\n",
    "print('Depths: ', depths)\n",
    "print('Energies:', energies)\n",
    "print('Num evaluations:', eval_counts)"
   ]
  },
  {
   "cell_type": "code",
   "execution_count": null,
   "metadata": {},
   "outputs": [],
   "source": [
    "for k in range(len(var_forms)):\n",
    "    for j in range(len(entanglements)):\n",
    "        pylab.plot(depths, energies[k][j]-energy, label=var_forms[k].__name__+' + '+entanglements[j])\n",
    "pylab.xlabel('Variational form depth')\n",
    "pylab.ylabel('Energy difference')\n",
    "pylab.yscale('log')\n",
    "pylab.title('H2 Ground State Energy Difference from Reference')\n",
    "pylab.legend(loc='upper right');"
   ]
  },
  {
   "cell_type": "markdown",
   "metadata": {},
   "source": [
    "The above plot shows how close the ground state energy result from VQE was to the reference. The next plot shows how many evaluations (calls to the objective/cost function) were needed by the optimizer before it stopped and returned. Note that the optimzer was configured with a maximum number of iterations of 10,000. The COBYLA optimizer makes one evaluation per iteration and it can be seen that for some points that the iteration limit was reached which caused the optimizer to return."
   ]
  },
  {
   "cell_type": "code",
   "execution_count": null,
   "metadata": {},
   "outputs": [],
   "source": [
    "for k in range(len(var_forms)):\n",
    "    for j in range(len(entanglements)):\n",
    "        pylab.plot(depths, eval_counts[k][j], '-o', label=var_forms[k].__name__+' + '+entanglements[j])\n",
    "pylab.xlabel('Variational form depth')\n",
    "pylab.ylabel('Evaluations')\n",
    "pylab.title('VQE number of evaluations')\n",
    "pylab.legend(loc='upper right');"
   ]
  },
  {
   "cell_type": "code",
   "execution_count": null,
   "metadata": {},
   "outputs": [],
   "source": []
  }
 ],
 "metadata": {
  "kernelspec": {
   "display_name": "Python 3",
   "language": "python",
   "name": "python3"
  },
  "language_info": {
   "codemirror_mode": {
    "name": "ipython",
    "version": 3
   },
   "file_extension": ".py",
   "mimetype": "text/x-python",
   "name": "python",
   "nbconvert_exporter": "python",
   "pygments_lexer": "ipython3",
   "version": "3.7.4"
  }
 },
 "nbformat": 4,
 "nbformat_minor": 1
}
